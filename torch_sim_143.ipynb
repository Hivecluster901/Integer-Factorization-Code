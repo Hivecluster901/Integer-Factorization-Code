{
 "cells": [
  {
   "cell_type": "code",
   "execution_count": 14,
   "metadata": {},
   "outputs": [],
   "source": [
    "import numpy as np\n",
    "import torch\n",
    "import matplotlib\n",
    "import matplotlib.pyplot as plt\n",
    "import time\n",
    "import pickle"
   ]
  },
  {
   "cell_type": "code",
   "execution_count": 15,
   "metadata": {},
   "outputs": [],
   "source": [
    "# amplitude increment\n",
    "def ampl_inc(J,b,c,zeta,p,sigma,attempt_num,dt):\n",
    "    return (p*c + zeta*(torch.mm(J,c)+b))*dt + (sigma*torch.randn((c.size(0),attempt_num),dtype=torch.float32))*dt\n",
    "\n",
    "# pump ramp\n",
    "def pump(O,S,D,Jmax,N):\n",
    "    i = torch.arange(N,dtype=torch.float32)\n",
    "    arg = torch.tensor(S,dtype = torch.float32)*(i/N-0.5)\n",
    "    return Jmax*O*(torch.tanh(arg) + D )\n",
    "\n",
    "# coupling ramp\n",
    "def coupling(init_value,final_value,dt,N): # redundant\n",
    "    i = torch.arange(N).type(torch.float32)\n",
    "    k = (final_value - init_value)/N/dt\n",
    "    return init_value + k*i*dt\n",
    "\n",
    "# amplitude initializer \n",
    "def init_ampl(dim, attempt_num):\n",
    "    return torch.zeros((dim, attempt_num),dtype=torch.float32)\n",
    "\n",
    "# evolution of amplitudes\n",
    "# init_value -- init coupling\n",
    "# final_value -- final coupling\n",
    "# N -- number of time iterations\n",
    "# attempt_num -- number of runs \n",
    "# J -- coupling matrix\n",
    "# b -- biases\n",
    "# O, S, D -- pump parameters\n",
    "# sigma -- sqrt(var) for random number\n",
    "# alpha -- momentum parameter\n",
    "# c_th -- restriction on amplitudes growth\n",
    "def evolve(N,attempt_num,dt,J,b,init_value,final_value,O,S,D,c_th,sigma,alpha):\n",
    "    dim = J.size(0)\n",
    "    Jmax = torch.max(torch.sum(torch.abs(J),1))\n",
    "    \n",
    "    # choosing an attempt for the amplitude evolution \n",
    "    random_attempt = np.random.randint(attempt_num)\n",
    "    \n",
    "    # initializing current amplitudes\n",
    "    c_current = init_ampl(dim, attempt_num)\n",
    "    \n",
    "    # creating the array for evolving amplitudes from random attempt\n",
    "    c_evol = torch.empty((dim, N),dtype=torch.float32)\n",
    "    c_evol[:,0] = c_current[:,random_attempt]\n",
    "    \n",
    "    # define pump array\n",
    "    p = pump(O,S,D,Jmax,N)\n",
    "    \n",
    "    \n",
    "    # initializing moving average of amplitudes increment\n",
    "    dc_momentum = torch.zeros((dim, attempt_num),dtype=torch.float32)\n",
    "    for i in range(1,N):\n",
    "        \n",
    "        # calculating amplitude increment\n",
    "        dc = ampl_inc(J,b,c_current,zeta,p[i],sigma,attempt_num,dt)\n",
    "        \n",
    "        # calculating moving average of amplitudes increment\n",
    "        dc_momentum = alpha*dc_momentum + (1-alpha)*dc\n",
    "        \n",
    "        # calculating possible values of amplitudes on the next step\n",
    "        c1 = c_current + dc_momentum\n",
    "        \n",
    "        # comparing c1 with c_th\n",
    "        th_test = (torch.abs(c1)<c_th).type(torch.float32)\n",
    "        \n",
    "        # updating c_current\n",
    "        c_current = c_current + th_test*dc_momentum\n",
    "        \n",
    "        # add amplitude values from random attempt to c_evol array \n",
    "        c_evol[:,i] = c_current[:,random_attempt]\n",
    "        \n",
    "    return c_current, c_evol"
   ]
  },
  {
   "cell_type": "code",
   "execution_count": 16,
   "metadata": {},
   "outputs": [],
   "source": [
    "# G_in_shape = 800\n",
    "# G=np.zeros((G_in_shape,G_in_shape))\n",
    "# G_txt = np.loadtxt('G6.txt')\n",
    "# for line in G_txt:\n",
    "#     G[int(line[0]-1), int(line[1])-1] = -line[2]\n",
    "#     G[int(line[1]-1), int(line[0])-1] = -line[2]    \n",
    "    \n",
    "# b = np.zeros((G_in_shape,1))"
   ]
  },
  {
   "cell_type": "code",
   "execution_count": 17,
   "metadata": {
    "scrolled": true
   },
   "outputs": [],
   "source": [
    "h_in = np.loadtxt('143h.txt', delimiter=' ')\n",
    "G_in = np.loadtxt('143J.txt', delimiter=' ')\n",
    "hypers_in = np.loadtxt('143hypers.txt', delimiter=' ')\n",
    "\n",
    "slope_factor = float(hypers_in[0])\n",
    "overall_factor = float(hypers_in[1])\n",
    "displacement = float(hypers_in[2])\n",
    "dt_const = float(hypers_in[3])\n",
    "G_in_shape = int(hypers_in[4])\n",
    "\n",
    "h = np.zeros((G_in_shape, 1))\n",
    "G = np.zeros((G_in_shape,G_in_shape))\n",
    "\n",
    "for i in range(G_in_shape):\n",
    "    h[i] = h_in[i]"
   ]
  },
  {
   "cell_type": "code",
   "execution_count": 18,
   "metadata": {},
   "outputs": [],
   "source": [
    "torch.cuda.empty_cache()\n",
    "J = torch.tensor(-2*G,dtype=torch.float32) # removed -2 *\n",
    "b = torch.tensor(-h,dtype=torch.float32) # removed - *\n",
    "c_th = 1.\n",
    "zeta = 1.\n",
    "init_coupling = 0.3 # redundant\n",
    "final_coupling = 1. # redundant\n",
    "N = 1000\n",
    "attempt_num = 100\n",
    "dt = 0.01\n",
    "sigma = 1\n",
    "alpha = 0.9\n",
    "Jmax = torch.max(torch.sum(torch.abs(J),1))\n",
    "\n",
    "S = 1.5\n",
    "D = 0.5\n",
    "O = 0.1"
   ]
  },
  {
   "cell_type": "code",
   "execution_count": null,
   "metadata": {},
   "outputs": [],
   "source": []
  },
  {
   "cell_type": "code",
   "execution_count": null,
   "metadata": {},
   "outputs": [],
   "source": []
  },
  {
   "cell_type": "code",
   "execution_count": 19,
   "metadata": {},
   "outputs": [
    {
     "name": "stdout",
     "output_type": "stream",
     "text": [
      "0.0927741527557373\n"
     ]
    }
   ],
   "source": [
    "t0 = time.time()\n",
    "c_current, c_evol = evolve(N,attempt_num,dt,J,b,init_coupling,final_coupling,O,S,D,c_th,sigma,alpha)\n",
    "spins_current = torch.sign(c_current)\n",
    "spins_evol = torch.sign(c_evol)\n",
    "energy = -0.5*torch.einsum('ij,ik,jk->k',(J,spins_current,spins_current)) - torch.einsum('ij,ik->k',(b,spins_current))\n",
    "# cut = 0.25*(torch.einsum('ij,ik,jk->k',(J,spins_current,spins_current))-torch.sum(J))\n",
    "t1=time.time()\n",
    "print(t1-t0)"
   ]
  },
  {
   "cell_type": "code",
   "execution_count": 20,
   "metadata": {},
   "outputs": [
    {
     "data": {
      "image/png": "[encoded data removed]",
      "text/plain": [
       "<Figure size 432x288 with 1 Axes>"
      ]
     },
     "metadata": {
      "needs_background": "light"
     },
     "output_type": "display_data"
    }
   ],
   "source": [
    "for i in range(J.size(0)):\n",
    "    plt.plot(c_evol[i,:].cpu().numpy())\n",
    "plt.grid()\n",
    "plt.xlabel('time step')\n",
    "plt.ylabel('amplitudes')\n",
    "plt.show()"
   ]
  },
  {
   "cell_type": "code",
   "execution_count": 21,
   "metadata": {},
   "outputs": [
    {
     "data": {
      "text/plain": [
       "tensor([ 1.,  1., -1.,  1.,  1., -1.])"
      ]
     },
     "execution_count": 21,
     "metadata": {},
     "output_type": "execute_result"
    }
   ],
   "source": [
    "spins_current[:, torch.argmin(energy)]"
   ]
  },
  {
   "cell_type": "code",
   "execution_count": 22,
   "metadata": {
    "scrolled": true
   },
   "outputs": [
    {
     "name": "stdout",
     "output_type": "stream",
     "text": [
      "tensor(-5.)\n",
      "tensor(-5.)\n"
     ]
    },
    {
     "data": {
      "image/png": "[encoded data removed]",
      "text/plain": [
       "<Figure size 432x288 with 1 Axes>"
      ]
     },
     "metadata": {
      "needs_background": "light"
     },
     "output_type": "display_data"
    }
   ],
   "source": [
    "plt.hist(energy.cpu().numpy())\n",
    "print(torch.min(energy))\n",
    "print(torch.mean(energy))"
   ]
  },
  {
   "cell_type": "code",
   "execution_count": 23,
   "metadata": {},
   "outputs": [],
   "source": [
    "s_exact = [1, 1, -1, 1, 1, -1]\n",
    "s_exact = torch.tensor(s_exact,dtype=torch.float32)\n",
    "E_exact = -0.5*torch.einsum('ij,i,j->',(J,s_exact,s_exact)) - torch.einsum('ij,i->',(b,s_exact))"
   ]
  },
  {
   "cell_type": "code",
   "execution_count": 24,
   "metadata": {},
   "outputs": [
    {
     "data": {
      "text/plain": [
       "tensor(-5.)"
      ]
     },
     "execution_count": 24,
     "metadata": {},
     "output_type": "execute_result"
    }
   ],
   "source": [
    "E_exact"
   ]
  },
  {
   "cell_type": "code",
   "execution_count": 25,
   "metadata": {},
   "outputs": [
    {
     "data": {
      "text/plain": [
       "[<matplotlib.lines.Line2D at 0x7f61e73c3310>]"
      ]
     },
     "execution_count": 25,
     "metadata": {},
     "output_type": "execute_result"
    },
    {
     "data": {
      "image/png": "[encoded data removed]",
      "text/plain": [
       "<Figure size 432x288 with 1 Axes>"
      ]
     },
     "metadata": {
      "needs_background": "light"
     },
     "output_type": "display_data"
    }
   ],
   "source": [
    "plt.plot(pump(O,S,D,Jmax,N).cpu().numpy())"
   ]
  },
  {
   "cell_type": "code",
   "execution_count": 37,
   "metadata": {},
   "outputs": [
    {
     "data": {
      "text/plain": [
       "tensor([ 1.,  1., -1.,  1.,  1., -1.])"
      ]
     },
     "execution_count": 37,
     "metadata": {},
     "output_type": "execute_result"
    }
   ],
   "source": [
    "spins_current[:,torch.argmin(energy)]"
   ]
  },
  {
   "cell_type": "code",
   "execution_count": null,
   "metadata": {},
   "outputs": [],
   "source": []
  }
 ],
 "metadata": {
  "kernelspec": {
   "display_name": "Python 3 (ipykernel)",
   "language": "python",
   "name": "python3"
  },
  "language_info": {
   "codemirror_mode": {
    "name": "ipython",
    "version": 3
   },
   "file_extension": ".py",
   "mimetype": "text/x-python",
   "name": "python",
   "nbconvert_exporter": "python",
   "pygments_lexer": "ipython3",
   "version": "3.9.7"
  }
 },
 "nbformat": 4,
 "nbformat_minor": 2
}
