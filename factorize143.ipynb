{
 "cells": [
  {
   "cell_type": "code",
   "execution_count": 18,
   "metadata": {},
   "outputs": [],
   "source": [
    "import numpy as np\n",
    "import torch"
   ]
  },
  {
   "cell_type": "code",
   "execution_count": 19,
   "metadata": {},
   "outputs": [],
   "source": [
    "# (* Hamiltonian of 143 factorisation, Dattani *)\n",
    "# H [a_, b_, c_, d_, e_, f_, g_] = \n",
    "#   5 - 3*a - b - d  + 2*a*d - 3*b*d + 2*c*d - 3*e + a*e + 2*b*e + \n",
    "#    2*b*f;\n",
    "# {a:f} is set of 6 qubits used to represent factoring Hamiltonian of 143"
   ]
  },
  {
   "cell_type": "code",
   "execution_count": 35,
   "metadata": {},
   "outputs": [],
   "source": [
    "# Construct Hamiltonian\n",
    "n = 6; # qubit number\n",
    "# Q = torch.Tensor([\\\n",
    "# [-3, 0, 0, 2, 1, 0, 0],\n",
    "# [0, -1, 0, -3, 2, 2, 0],\\\n",
    "# [0, 0, 0, 2, 0, 0, 0],\\\n",
    "# [0, 0, 0, -1, 0, 0, 0],\\\n",
    "# [0, 0, 0, 0, -3, 0, 0],\\\n",
    "# [0, 0, 0, 0, 0, 0, 0],\\\n",
    "# [0, 0, 0, 0, 0, 0, 5]]);\n",
    "Q = torch.Tensor([\\\n",
    "[-3, 0, 0, 2, 1, 0],\n",
    "[0, -1, 0, -3, 2, 2],\\\n",
    "[0, 0, 0, 2, 0, 0],\\\n",
    "[2, -3, 2, -1, 0, 0],\\\n",
    "[1, 2, 0, 0, -3, 0],\\\n",
    "[0, 2, 0, 0, 0, 0]])\n",
    "J = torch.mul(Q, 0.25)\n",
    "h = torch.unsqueeze(torch.mul(torch.Tensor([-3, -1, 0, -1, -3, 0]), 0.5), 1);\n",
    "for i in range(n):\n",
    "    h[i][0] = h[i][0] + torch.mul(torch.sum(Q[i][:]), 0.25)"
   ]
  },
  {
   "cell_type": "code",
   "execution_count": 36,
   "metadata": {
    "scrolled": true
   },
   "outputs": [],
   "source": [
    "# Write to graph file\n",
    "\n",
    "slope_factor = 3.000000 # Define hyperparameters\n",
    "overall_factor = 0.100000\n",
    "displacement = -0.900000\n",
    "dt_const = 0.070000\n",
    "\n",
    "hypers = [slope_factor, overall_factor, displacement, dt_const, n] # Write hyperparameters to file\n",
    "\n",
    "np.savetxt('143hypers.txt', hypers, delimiter=' ', newline='\\n')\n",
    "np.savetxt('143h.txt', h, delimiter=' ', newline='\\n')\n",
    "np.savetxt('143J.txt', J, delimiter=' ', newline='\\n')"
   ]
  },
  {
   "cell_type": "code",
   "execution_count": null,
   "metadata": {},
   "outputs": [],
   "source": []
  }
 ],
 "metadata": {
  "kernelspec": {
   "display_name": "Python 3",
   "language": "python",
   "name": "python3"
  },
  "language_info": {
   "codemirror_mode": {
    "name": "ipython",
    "version": 3
   },
   "file_extension": ".py",
   "mimetype": "text/x-python",
   "name": "python",
   "nbconvert_exporter": "python",
   "pygments_lexer": "ipython3",
   "version": "3.8.10"
  }
 },
 "nbformat": 4,
 "nbformat_minor": 2
}
