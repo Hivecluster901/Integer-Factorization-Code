{
 "cells": [
  {
   "cell_type": "code",
   "execution_count": 3,
   "metadata": {},
   "outputs": [],
   "source": [
    "import numpy as np\n",
    "import torch\n",
    "\n",
    "# Construct Hamiltonian\n",
    "\n",
    "n = 6 # number of qubits\n",
    "J = torch.Tensor([\\\n",
    "[0.75, 0.00, 0.00, 0.50, 0.25, 0.00],\\\n",
    "[0.00, 0.25, 0.00, -0.75, 0.50, 0.50],\\\n",
    "[0.00, 0.00, -0.50, 0.50, 0.00, 0.00],\\\n",
    "[0.50, -0.75, 0.50, 0.25, 0.00, 0.00],\\\n",
    "[0.25, 0.50, 0.00, 0.00, 0.75, 0.00],\\\n",
    "[0.00, 0.50, 0.00, 0.00, 0.00, -0.50]])\n",
    "\n",
    "h = torch.zeros(n, 1)\n",
    "for i in range(n):\n",
    "    for j in range(n):\n",
    "        if i == j:\n",
    "            h[i] = J[i][j]"
   ]
  },
  {
   "cell_type": "code",
   "execution_count": 4,
   "metadata": {},
   "outputs": [],
   "source": [
    "# Write to graph file\n",
    "\n",
    "slope_factor = 3.000000 # Define hyperparameters\n",
    "overall_factor = 0.100000\n",
    "displacement = -0.900000\n",
    "dt_const = 0.070000\n",
    "\n",
    "hypers = [slope_factor, overall_factor, displacement, dt_const, n] # Write hyperparameters to file\n",
    "\n",
    "np.savetxt('143hypers.txt', hypers, delimiter=' ', newline='\\n')\n",
    "np.savetxt('143h.txt', h, delimiter=' ', newline='\\n')\n",
    "np.savetxt('143J.txt', J, delimiter=' ', newline='\\n')"
   ]
  },
  {
   "cell_type": "code",
   "execution_count": null,
   "metadata": {},
   "outputs": [],
   "source": []
  }
 ],
 "metadata": {
  "kernelspec": {
   "display_name": "Python 3",
   "language": "python",
   "name": "python3"
  },
  "language_info": {
   "codemirror_mode": {
    "name": "ipython",
    "version": 3
   },
   "file_extension": ".py",
   "mimetype": "text/x-python",
   "name": "python",
   "nbconvert_exporter": "python",
   "pygments_lexer": "ipython3",
   "version": "3.8.10"
  }
 },
 "nbformat": 4,
 "nbformat_minor": 2
}
